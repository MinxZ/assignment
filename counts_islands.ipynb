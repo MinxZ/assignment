{
 "cells": [
  {
   "cell_type": "code",
   "execution_count": 45,
   "metadata": {},
   "outputs": [],
   "source": [
    "import numpy as np\n",
    "import timeit\n",
    "\n",
    "def gene_maps(size = [10,10],auto=1):\n",
    "    #generate the maps\n",
    "    if auto == 1:\n",
    "        sea = np.random.rand(size[0],size[1])\n",
    "        maps = np.ones(size)\n",
    "        maps[sea < 0.5] = 0\n",
    "    else:\n",
    "        maps = np.array(\n",
    "            [[ 0.,  0.,  0.,  1.,  1.,  1.,  0.,  0.,  0.,  0.],\n",
    "             [ 0.,  0.,  0.,  1.,  0.,  1.,  1.,  0.,  0.,  0.],\n",
    "             [ 0.,  0.,  0.,  0.,  0.,  1.,  1.,  0.,  0.,  1.],\n",
    "             [ 0.,  0.,  0.,  1.,  0.,  1.,  0.,  0.,  0.,  1.],\n",
    "             [ 0.,  0.,  0.,  1.,  1.,  1.,  0.,  0.,  0.,  1.],\n",
    "             [ 0.,  0.,  0.,  1.,  1.,  0.,  1.,  0.,  1.,  1.],\n",
    "             [ 0.,  0.,  0.,  1.,  0.,  0.,  1.,  0.,  1.,  1.],\n",
    "             [ 0.,  1.,  0.,  0.,  0.,  0.,  1.,  0.,  1.,  1.],\n",
    "             [ 0.,  1.,  1.,  0.,  0.,  0.,  0.,  0.,  0.,  1.],\n",
    "             [ 0.,  1.,  1.,  0.,  0.,  0.,  0.,  0.,  0.,  1.]])\n",
    "    return maps\n",
    "\n",
    "#using dict list list\n",
    "def count_island(maps):\n",
    "    a = dict()\n",
    "    flag = 0\n",
    "    num = 0\n",
    "    for x in range(maps.shape[0]):\n",
    "        for y in range(maps.shape[1]):\n",
    "            #print x,y\n",
    "            if maps[x,y] == 1:\n",
    "                islands = []\n",
    "                flag = 0\n",
    "                for island,dots in list(a.items()):\n",
    "                    if [x-1,y] in dots or [x,y-1] in dots:        \n",
    "                        a[island].append([x,y])\n",
    "                        flag += 1\n",
    "                        islands.extend([island])\n",
    "                if flag == 0:\n",
    "                    num += 1\n",
    "                    a[num] = [[x,y]]\n",
    "                elif flag > 1:\n",
    "                    a[islands[0]].extend(a[islands[1]])\n",
    "                    del a[islands[1]]\n",
    "            #print a\n",
    "    return len(a.keys())\n",
    "\n",
    "#using dict ndarry\n",
    "def count_island1(maps):\n",
    "    a = dict()\n",
    "    flag = 0\n",
    "    num = 0\n",
    "    for x in range(maps.shape[0]):\n",
    "        for y in range(maps.shape[1]):\n",
    "            #print x,y\n",
    "            if maps[x,y] == 1:\n",
    "                islands = []\n",
    "                flag = 0\n",
    "                for island,dots in list(a.items()):\n",
    "                    #print dots\n",
    "                    if [x-1,y] in dots.tolist() or [x,y-1] in dots.tolist(): \n",
    "                        num += 1\n",
    "                        a[num] = np.zeros((dots.shape[0]+1,dots.shape[1]))\n",
    "                        a[num][:-1,:] = dots\n",
    "                        a[num][-1,:] = [x,y]\n",
    "                        del a[island]\n",
    "                        flag += 1\n",
    "                        islands.extend([num])\n",
    "                if flag == 0:\n",
    "                    num += 1\n",
    "                    a[num] = np.array([[x,y]])\n",
    "                elif flag > 1:\n",
    "                    num += 1\n",
    "                    a[num] = np.zeros((a[islands[0]].shape[0]+a[islands[1]].shape[0],\\\n",
    "                                       a[islands[0]].shape[1]))\n",
    "                    a[num][:a[islands[0]].shape[0],:] = a[islands[0]]\n",
    "                    a[num][a[islands[0]].shape[0]:,:] = a[islands[1]]\n",
    "                    del a[islands[0]]\n",
    "                    del a[islands[1]]\n",
    "                #print a   \n",
    "    return len(a.keys())"
   ]
  },
  {
   "cell_type": "code",
   "execution_count": 46,
   "metadata": {},
   "outputs": [],
   "source": [
    "#using dict list tuple\n",
    "def count_island3(maps):\n",
    "    a = dict()\n",
    "    flag = 0\n",
    "    num = 0\n",
    "    for x in range(maps.shape[0]):\n",
    "        for y in range(maps.shape[1]):\n",
    "            #print x,y\n",
    "            if maps[x,y] == 1:\n",
    "                islands = []\n",
    "                flag = 0\n",
    "                for island,dots in list(a.items()):\n",
    "                    if (x-1,y) in dots or (x,y-1) in dots:\n",
    "                        a[island].append((x,y))\n",
    "                        flag += 1\n",
    "                        islands.extend([island])\n",
    "                if flag == 0:\n",
    "                    num += 1\n",
    "                    a[num] = [(x,y)]\n",
    "                elif flag > 1:\n",
    "                    a[islands[0]].extend(a[islands[1]])\n",
    "                    del a[islands[1]]\n",
    "            #print a\n",
    "    return len(a.keys())\n",
    "\n",
    "#using dict dict tuple\n",
    "def count_island4(maps):\n",
    "    a = dict()\n",
    "    flag = 0\n",
    "    num = 0\n",
    "    for x in range(maps.shape[0]):\n",
    "        for y in range(maps.shape[1]):\n",
    "            if maps[x,y] == 1:\n",
    "                islands = []\n",
    "                flag = 0\n",
    "                for island,dots in list(a.items()):\n",
    "                    if (x-1,y) in dots.values() or (x,y-1) in dots.values():\n",
    "                        num += 1\n",
    "                        a[island][num] = (x,y)\n",
    "                        flag += 1\n",
    "                        islands.extend([island])\n",
    "                if flag == 0:\n",
    "                    num += 1\n",
    "                    a[num] = {num:(x,y)}\n",
    "                elif flag > 1:\n",
    "                    a[islands[0]].update(a[islands[1]])\n",
    "                    del a[islands[1]]\n",
    "    return len(a.keys())\n"
   ]
  },
  {
   "cell_type": "code",
   "execution_count": 47,
   "metadata": {
    "scrolled": true
   },
   "outputs": [
    {
     "name": "stdout",
     "output_type": "stream",
     "text": [
      "4\n"
     ]
    }
   ],
   "source": [
    "size = [3,3]\n",
    "maps = gene_maps(size,0)\n",
    "print count_island3(maps)"
   ]
  },
  {
   "cell_type": "code",
   "execution_count": 48,
   "metadata": {},
   "outputs": [
    {
     "data": {
      "text/plain": [
       "array([[ 0.,  0.,  0.,  1.,  1.,  1.,  0.,  0.,  0.,  0.],\n",
       "       [ 0.,  0.,  0.,  1.,  0.,  1.,  1.,  0.,  0.,  0.],\n",
       "       [ 0.,  0.,  0.,  0.,  0.,  1.,  1.,  0.,  0.,  1.],\n",
       "       [ 0.,  0.,  0.,  1.,  0.,  1.,  0.,  0.,  0.,  1.],\n",
       "       [ 0.,  0.,  0.,  1.,  1.,  1.,  0.,  0.,  0.,  1.],\n",
       "       [ 0.,  0.,  0.,  1.,  1.,  0.,  1.,  0.,  1.,  1.],\n",
       "       [ 0.,  0.,  0.,  1.,  0.,  0.,  1.,  0.,  1.,  1.],\n",
       "       [ 0.,  1.,  0.,  0.,  0.,  0.,  1.,  0.,  1.,  1.],\n",
       "       [ 0.,  1.,  1.,  0.,  0.,  0.,  0.,  0.,  0.,  1.],\n",
       "       [ 0.,  1.,  1.,  0.,  0.,  0.,  0.,  0.,  0.,  1.]])"
      ]
     },
     "execution_count": 48,
     "metadata": {},
     "output_type": "execute_result"
    }
   ],
   "source": [
    "maps"
   ]
  },
  {
   "cell_type": "code",
   "execution_count": 49,
   "metadata": {
    "scrolled": true
   },
   "outputs": [
    {
     "data": {
      "text/plain": [
       "1.3975269794464111"
      ]
     },
     "execution_count": 49,
     "metadata": {},
     "output_type": "execute_result"
    }
   ],
   "source": [
    "size = [100,100]\n",
    "timeit.timeit('count_island(gene_maps(size))',\\\n",
    "              setup=\"from __main__ import gene_maps,count_island,size\",\\\n",
    "              number=1)"
   ]
  },
  {
   "cell_type": "code",
   "execution_count": 50,
   "metadata": {},
   "outputs": [
    {
     "data": {
      "text/plain": [
       "1.1677849292755127"
      ]
     },
     "execution_count": 50,
     "metadata": {},
     "output_type": "execute_result"
    }
   ],
   "source": [
    "size = [100,100]\n",
    "timeit.timeit('count_island3(gene_maps(size))',\\\n",
    "              setup=\"from __main__ import gene_maps,count_island3,size\",\\\n",
    "              number=1)"
   ]
  },
  {
   "cell_type": "code",
   "execution_count": 51,
   "metadata": {},
   "outputs": [
    {
     "data": {
      "text/plain": [
       "0.16071200370788574"
      ]
     },
     "execution_count": 51,
     "metadata": {},
     "output_type": "execute_result"
    }
   ],
   "source": [
    "size = [50,50]\n",
    "timeit.timeit('count_island4(gene_maps(size))',\\\n",
    "              setup=\"from __main__ import gene_maps,count_island4,size\",\\\n",
    "              number=1)"
   ]
  },
  {
   "cell_type": "code",
   "execution_count": 52,
   "metadata": {},
   "outputs": [
    {
     "data": {
      "text/plain": [
       "1.1202731132507324"
      ]
     },
     "execution_count": 52,
     "metadata": {},
     "output_type": "execute_result"
    }
   ],
   "source": [
    "size = [1000,1000]\n",
    "p = problem()\n",
    "timeit.timeit('p.count_island4(gene_maps(size).tolist())',\\\n",
    "             setup='from __main__ import gene_maps,p,size',\\\n",
    "             number=1)\n",
    "\n"
   ]
  },
  {
   "cell_type": "code",
   "execution_count": 67,
   "metadata": {},
   "outputs": [
    {
     "data": {
      "image/png": "[encoded data removed]",
      "text/plain": [
       "<matplotlib.figure.Figure at 0x11a4034d0>"
      ]
     },
     "metadata": {},
     "output_type": "display_data"
    }
   ],
   "source": [
    "import matplotlib.pyplot as plt\n",
    "import numpy as np\n",
    "b = 5\n",
    "t = np.ones(b)\n",
    "s = np.ones(b)\n",
    "\n",
    "plt.grid(True)\n",
    "\n",
    "\n",
    "for x in range(b):\n",
    "    n = 20*(x+1)\n",
    "    t[x] = n*n\n",
    "    size = [n,n]\n",
    "    s[x] = timeit.timeit('count_island3(gene_maps(size))',\\\n",
    "                      setup=\"from __main__ import gene_maps,count_island3,size\",\\\n",
    "                      number=1)\n",
    "plt.plot(t, s)\n",
    "\n",
    "for x in range(b):\n",
    "    n = 50*(x+1)\n",
    "    t[x] = n*n\n",
    "    size = [n,n]\n",
    "    p = problem()\n",
    "    timeit.timeit('p.count_island4(gene_maps(size).tolist())',\\\n",
    "                 setup='from __main__ import gene_maps,p,size',\\\n",
    "                 number=1)\n",
    "plt.plot(t, s)\n",
    "\n",
    "for x in range(b):\n",
    "    n = 50*(x+1)\n",
    "    t[x] = n*n\n",
    "    size = [n,n]\n",
    "    p = problem()\n",
    "    timeit.timeit('p.numIslands(gene_maps(size).tolist())',\\\n",
    "                 setup='from __main__ import gene_maps,p,size',\\\n",
    "                 number=1)\n",
    "plt.plot(t, s)\n",
    "\n",
    "plt.show()"
   ]
  },
  {
   "cell_type": "code",
   "execution_count": 63,
   "metadata": {},
   "outputs": [
    {
     "data": {
      "text/plain": [
       "2.013841152191162"
      ]
     },
     "execution_count": 63,
     "metadata": {},
     "output_type": "execute_result"
    }
   ],
   "source": [
    "n = 1000\n",
    "size = [n,n]\n",
    "p = problem()\n",
    "timeit.timeit('p.numIslands(gene_maps(size).tolist())',\\\n",
    "                 setup='from __main__ import gene_maps,p,size',\\\n",
    "                 number=1)"
   ]
  },
  {
   "cell_type": "code",
   "execution_count": 56,
   "metadata": {
    "collapsed": true
   },
   "outputs": [],
   "source": [
    "class problem(object):\n",
    "    \n",
    "    def count_island4(self,maps):\n",
    "        if not maps: return 0\n",
    "        \n",
    "        count = 0\n",
    "        for x in range(len(maps)):\n",
    "            for y in range(len(maps[0])):\n",
    "                if maps[x][y] == 1:\n",
    "                    self.dfs(maps,x,y)\n",
    "                    count += 1\n",
    "        return count\n",
    "    def dfs(self,maps,x,y):\n",
    "        if x<0 or y<0 or x>=len(maps) or y>=len(maps[0]) or maps[x][y] != 1:\n",
    "            return\n",
    "        maps[x][y] = 0\n",
    "        self.dfs(maps,x+1,y)\n",
    "        self.dfs(maps,x-1,y)\n",
    "        self.dfs(maps,x,y+1)\n",
    "        self.dfs(maps,x,y-1)\n",
    "    def numIslands(self, maps):\n",
    "        grid = maps\n",
    "        def sink(i, j):\n",
    "            if 0 <= i < len(grid) and 0 <= j < len(grid[i]) and grid[i][j] == 1:\n",
    "                grid[i][j] = 0\n",
    "                map(sink, (i+1, i-1, i, i), (j, j, j+1, j-1))\n",
    "                return 1\n",
    "            return 0\n",
    "        return sum(sink(i, j) for i in range(len(grid)) for j in range(len(grid[i])))\n",
    "    \n",
    "    \n",
    "    \n",
    "class problem1(object):    \n",
    "    def numIslands(self, maps):\n",
    "        if not maps:\n",
    "            return 0\n",
    "            \n",
    "        count = 0\n",
    "        for i in range(len(maps)):\n",
    "            for j in range(len(maps[0])):\n",
    "                if maps[i][j] == 1:\n",
    "                    self.dfs(maps, i, j)\n",
    "                    count += 1\n",
    "        return count\n",
    "\n",
    "    def dfs(self, maps, i, j):\n",
    "        if i<0 or j<0 or i>=len(maps) or j>=len(maps[0]) or maps[i][j] != 1:\n",
    "            return\n",
    "        maps[i][j] = 0\n",
    "        self.dfs(maps, i+1, j)\n",
    "        self.dfs(maps, i-1, j)\n",
    "        self.dfs(maps, i, j+1)\n",
    "        self.dfs(maps, i, j-1)\n",
    "\n",
    "\n",
    "                    "
   ]
  },
  {
   "cell_type": "code",
   "execution_count": 57,
   "metadata": {},
   "outputs": [
    {
     "data": {
      "text/plain": [
       "4"
      ]
     },
     "execution_count": 57,
     "metadata": {},
     "output_type": "execute_result"
    }
   ],
   "source": [
    "size = [3,3]\n",
    "maps = gene_maps(size,0)\n",
    "maps = maps.tolist()\n",
    "p = problem()\n",
    "p.count_island4(maps)\n",
    "#p.numIslands(maps)"
   ]
  },
  {
   "cell_type": "code",
   "execution_count": 58,
   "metadata": {},
   "outputs": [],
   "source": [
    "maps[1][1] = '2'\n"
   ]
  },
  {
   "cell_type": "code",
   "execution_count": null,
   "metadata": {
    "collapsed": true
   },
   "outputs": [],
   "source": []
  }
 ],
 "metadata": {
  "kernelspec": {
   "display_name": "Python 3",
   "language": "python",
   "name": "python3"
  },
  "language_info": {
   "codemirror_mode": {
    "name": "ipython",
    "version": 3
   },
   "file_extension": ".py",
   "mimetype": "text/x-python",
   "name": "python",
   "nbconvert_exporter": "python",
   "pygments_lexer": "ipython3",
   "version": "3.6.1"
  }
 },
 "nbformat": 4,
 "nbformat_minor": 2
}
